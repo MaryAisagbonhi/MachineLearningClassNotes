{
 "cells": [
  {
   "cell_type": "markdown",
   "id": "5a720360",
   "metadata": {},
   "source": [
    "This is the first workshop"
   ]
  },
  {
   "cell_type": "markdown",
   "id": "eb88b38d",
   "metadata": {},
   "source": [
    "#This is a level one heading"
   ]
  },
  {
   "cell_type": "markdown",
   "id": "4159a335",
   "metadata": {},
   "source": [
    "# This is a level 1 heading"
   ]
  },
  {
   "cell_type": "markdown",
   "id": "45276581",
   "metadata": {},
   "source": [
    "## This is a level 2 heading"
   ]
  },
  {
   "cell_type": "markdown",
   "id": "8121f7c6",
   "metadata": {},
   "source": [
    "### This is a level 3 heading"
   ]
  },
  {
   "cell_type": "raw",
   "id": "e2e04250",
   "metadata": {},
   "source": [
    "<html>\n",
    "<a href=\"https://www.salford.ac.uk\">Click here</a>\n",
    "</html>"
   ]
  },
  {
   "cell_type": "raw",
   "id": "a561ae5f",
   "metadata": {},
   "source": [
    "<html>\n",
    "<a href=\"https://www.salford.ac.uk\">Click here</a>\n",
    "</html>"
   ]
  },
  {
   "cell_type": "code",
   "execution_count": 6,
   "id": "ca608f11",
   "metadata": {},
   "outputs": [
    {
     "name": "stdout",
     "output_type": "stream",
     "text": [
      "Hello World\n"
     ]
    }
   ],
   "source": [
    "print(\"Hello World\")"
   ]
  },
  {
   "cell_type": "code",
   "execution_count": 7,
   "id": "9971ae7c",
   "metadata": {},
   "outputs": [
    {
     "name": "stdout",
     "output_type": "stream",
     "text": [
      "10\n"
     ]
    }
   ],
   "source": [
    "print(10)"
   ]
  },
  {
   "cell_type": "code",
   "execution_count": 8,
   "id": "7b3d83c0",
   "metadata": {},
   "outputs": [
    {
     "name": "stdout",
     "output_type": "stream",
     "text": [
      "1 2 3\n"
     ]
    }
   ],
   "source": [
    "print(1,2,3)"
   ]
  },
  {
   "cell_type": "code",
   "execution_count": 9,
   "id": "c6dd0564",
   "metadata": {},
   "outputs": [
    {
     "name": "stdout",
     "output_type": "stream",
     "text": [
      "a b c\n",
      "a,b,c\n",
      "a-b-c\n"
     ]
    }
   ],
   "source": [
    "print('a','b','c')\n",
    "print('a','b','c',sep=',')\n",
    "print('a','b','c',sep='-')"
   ]
  },
  {
   "cell_type": "code",
   "execution_count": 10,
   "id": "214fa98e",
   "metadata": {},
   "outputs": [
    {
     "name": "stdout",
     "output_type": "stream",
     "text": [
      "Hello\n",
      "World\n"
     ]
    }
   ],
   "source": [
    "print('Hello')\n",
    "print('World')"
   ]
  },
  {
   "cell_type": "code",
   "execution_count": 11,
   "id": "e748ee0e",
   "metadata": {},
   "outputs": [
    {
     "name": "stdout",
     "output_type": "stream",
     "text": [
      "Hello\n",
      "World\n"
     ]
    }
   ],
   "source": [
    "print('Hello\\nWorld')"
   ]
  },
  {
   "cell_type": "code",
   "execution_count": 28,
   "id": "07ba8e3a",
   "metadata": {},
   "outputs": [
    {
     "name": "stdout",
     "output_type": "stream",
     "text": [
      "\n",
      "Learning Python\n",
      "\n"
     ]
    }
   ],
   "source": [
    "print('''\n",
    "Learning Python\n",
    "''')"
   ]
  },
  {
   "cell_type": "code",
   "execution_count": 13,
   "id": "5e4b0fa2",
   "metadata": {},
   "outputs": [
    {
     "name": "stdout",
     "output_type": "stream",
     "text": [
      "Week1Workshop\n"
     ]
    }
   ],
   "source": [
    "print('Week1'+''+'Workshop')"
   ]
  },
  {
   "cell_type": "code",
   "execution_count": 14,
   "id": "4a869a27",
   "metadata": {},
   "outputs": [
    {
     "name": "stdout",
     "output_type": "stream",
     "text": [
      "Area\n",
      "2\n",
      "3.14\n"
     ]
    }
   ],
   "source": [
    "msg='Area'\n",
    "r=2\n",
    "pi=3.14\n",
    "print(msg)\n",
    "print(r)\n",
    "print(pi)"
   ]
  },
  {
   "cell_type": "code",
   "execution_count": 15,
   "id": "b9ec4f4a",
   "metadata": {},
   "outputs": [
    {
     "data": {
      "text/plain": [
       "str"
      ]
     },
     "execution_count": 15,
     "metadata": {},
     "output_type": "execute_result"
    }
   ],
   "source": [
    "type(msg)"
   ]
  },
  {
   "cell_type": "code",
   "execution_count": 16,
   "id": "30ec892f",
   "metadata": {},
   "outputs": [
    {
     "data": {
      "text/plain": [
       "int"
      ]
     },
     "execution_count": 16,
     "metadata": {},
     "output_type": "execute_result"
    }
   ],
   "source": [
    "type(r)"
   ]
  },
  {
   "cell_type": "code",
   "execution_count": 17,
   "id": "86805301",
   "metadata": {},
   "outputs": [
    {
     "data": {
      "text/plain": [
       "float"
      ]
     },
     "execution_count": 17,
     "metadata": {},
     "output_type": "execute_result"
    }
   ],
   "source": [
    "type(pi)"
   ]
  },
  {
   "cell_type": "code",
   "execution_count": 18,
   "id": "7fcc4da6",
   "metadata": {},
   "outputs": [],
   "source": [
    "x=str(2)\n",
    "y=int(2)\n",
    "z=float(2)"
   ]
  },
  {
   "cell_type": "code",
   "execution_count": 19,
   "id": "c4ce5ba9",
   "metadata": {},
   "outputs": [
    {
     "data": {
      "text/plain": [
       "str"
      ]
     },
     "execution_count": 19,
     "metadata": {},
     "output_type": "execute_result"
    }
   ],
   "source": [
    "type(x)"
   ]
  },
  {
   "cell_type": "code",
   "execution_count": 20,
   "id": "97d23fd9",
   "metadata": {},
   "outputs": [
    {
     "data": {
      "text/plain": [
       "int"
      ]
     },
     "execution_count": 20,
     "metadata": {},
     "output_type": "execute_result"
    }
   ],
   "source": [
    "type(y)"
   ]
  },
  {
   "cell_type": "code",
   "execution_count": 22,
   "id": "ca23034f",
   "metadata": {},
   "outputs": [
    {
     "data": {
      "text/plain": [
       "float"
      ]
     },
     "execution_count": 22,
     "metadata": {},
     "output_type": "execute_result"
    }
   ],
   "source": [
    "type(z)"
   ]
  },
  {
   "cell_type": "code",
   "execution_count": 24,
   "id": "2e194cf9",
   "metadata": {},
   "outputs": [
    {
     "name": "stdout",
     "output_type": "stream",
     "text": [
      "The addition of x and y is: 7\n",
      "The subtraction of y from x is: -1\n",
      "The multiplication of x and y is 12\n",
      "The floating division of x by y is 0.75\n",
      "The integer division of x by y is 0\n",
      "The remainder of y/x: 1\n",
      "x to the power of y: 81\n"
     ]
    }
   ],
   "source": [
    "x=3\n",
    "y=4\n",
    "add=x+y\n",
    "sub=x-y\n",
    "mul=x*y\n",
    "fdiv=x/y\n",
    "idiv=x//y\n",
    "mod=y%x\n",
    "power=x**y\n",
    "\n",
    "print('The addition of x and y is: ' +str(add))\n",
    "print('The subtraction of y from x is: '+str(sub))\n",
    "print('The multiplication of x and y is '+str(mul))\n",
    "print('The floating division of x by y is '+str(fdiv))\n",
    "print('The integer division of x by y is '+str(idiv))\n",
    "print('The remainder of y/x: '+str(mod))\n",
    "print('x to the power of y: '+str(power))"
   ]
  },
  {
   "cell_type": "code",
   "execution_count": 25,
   "id": "eedc320c",
   "metadata": {},
   "outputs": [
    {
     "name": "stdout",
     "output_type": "stream",
     "text": [
      "e1=9\n",
      "e2=24\n",
      "e3=14.0\n",
      "e4=25.0\n",
      "e5=1.0\n",
      "e6=1.5\n",
      "e7=1.0\n",
      "e8=1.5\n",
      "e9=1.0\n",
      "e10=7.5\n"
     ]
    }
   ],
   "source": [
    "e1=15-3*2\n",
    "e2=(15-3)*2\n",
    "e3=15-3**2/9\n",
    "e4=15/3*5\n",
    "e5=15/(3*5)\n",
    "e6=15%4/2\n",
    "e7=15%(4/2)\n",
    "e8=15//4/2\n",
    "e9=15/4//2\n",
    "e10=15/(4//2)\n",
    "\n",
    "\n",
    "print('e1',e1,sep='=')\n",
    "print('e2',e2,sep='=')\n",
    "print('e3',e3,sep='=')\n",
    "print('e4',e4,sep='=')\n",
    "print('e5',e5,sep='=')\n",
    "print('e6',e6,sep='=')\n",
    "print('e7',e7,sep='=')\n",
    "print('e8',e8,sep='=')\n",
    "print('e9',e9,sep='=')\n",
    "print('e10',e10,sep='=')\n"
   ]
  },
  {
   "cell_type": "code",
   "execution_count": 26,
   "id": "19a57261",
   "metadata": {},
   "outputs": [
    {
     "name": "stdout",
     "output_type": "stream",
     "text": [
      "sum: 11\n"
     ]
    }
   ],
   "source": [
    "# This part prints sum of two numbers\n",
    "x=5 # First operand\n",
    "y=6 # Second operand\n",
    "print('sum:',x+y)\n"
   ]
  },
  {
   "cell_type": "code",
   "execution_count": 27,
   "id": "611d6e4e",
   "metadata": {},
   "outputs": [
    {
     "name": "stdout",
     "output_type": "stream",
     "text": [
      "sum: 11\n"
     ]
    }
   ],
   "source": [
    "'''\n",
    "# This part prints sum of two numbers\n",
    "x is the first operand\n",
    "y is the second operand\n",
    "\n",
    "'''\n",
    "x=5 \n",
    "y=6 \n",
    "print('sum:',x+y)"
   ]
  },
  {
   "cell_type": "code",
   "execution_count": 29,
   "id": "7fd140fe",
   "metadata": {},
   "outputs": [
    {
     "name": "stdout",
     "output_type": "stream",
     "text": [
      "[0 1 2 3 4 5]\n"
     ]
    }
   ],
   "source": [
    "import numpy as np\n",
    "a=np.arange(6)\n",
    "print(a)"
   ]
  },
  {
   "cell_type": "code",
   "execution_count": null,
   "id": "f532e9e0",
   "metadata": {},
   "outputs": [],
   "source": []
  }
 ],
 "metadata": {
  "kernelspec": {
   "display_name": "Python 3 (ipykernel)",
   "language": "python",
   "name": "python3"
  },
  "language_info": {
   "codemirror_mode": {
    "name": "ipython",
    "version": 3
   },
   "file_extension": ".py",
   "mimetype": "text/x-python",
   "name": "python",
   "nbconvert_exporter": "python",
   "pygments_lexer": "ipython3",
   "version": "3.9.13"
  }
 },
 "nbformat": 4,
 "nbformat_minor": 5
}
